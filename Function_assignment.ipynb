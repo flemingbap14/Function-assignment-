{
  "nbformat": 4,
  "nbformat_minor": 0,
  "metadata": {
    "colab": {
      "provenance": []
    },
    "kernelspec": {
      "name": "python3",
      "display_name": "Python 3"
    },
    "language_info": {
      "name": "python"
    }
  },
  "cells": [
    {
      "cell_type": "markdown",
      "source": [
        "#Theory Questions"
      ],
      "metadata": {
        "id": "3atIT46UyP9m"
      }
    },
    {
      "cell_type": "markdown",
      "source": [
        "Q1 What is the difference between a function and a method in Python?\n",
        "\n",
        "Ans  Difference between a Function and a Method in Python:\n",
        "\n",
        "A function is a block of code that performs a specific task and is called independently.\n",
        "A method is similar but is associated with an object and is called using the object.\n",
        "Example:\n",
        "\n",
        "def add(a, b):  # Function\n",
        "    return a + b\n",
        "\n",
        "class Math:\n",
        "    def multiply(self, a, b):  # Method (associated with the class)\n",
        "        return a * b\n",
        "\n"
      ],
      "metadata": {
        "id": "iYXABCt6yZVY"
      }
    },
    {
      "cell_type": "markdown",
      "source": [
        "Q2 Explain the concept of function arguments and parameters in Python.\n",
        "\n",
        "Ans Function Arguments and Parameters:\n",
        "\n",
        "Parameters: Variables listed in a function definition.\n",
        "Arguments: Values passed to a function when it is called.\n",
        "Example:\n",
        "\n",
        "def greet(name):  # 'name' is a parameter\n",
        "    print(\"Hello\", name)\n",
        "\n",
        "greet(\"Alice\")  # 'Alice' is an argument\n"
      ],
      "metadata": {
        "id": "gTVFGkROy0ql"
      }
    },
    {
      "cell_type": "markdown",
      "source": [
        "Q3. What are the different ways to define and call a function in Python?\n",
        "\n",
        "Ans Ways to Define and Call a Function:\n",
        "\n",
        "Using def, lambda, built-in functions, and recursion.\n",
        "Example:\n",
        "\n",
        "def square(x):\n",
        "    return x * x\n",
        "\n",
        "print(square(5))  # Calling the function\n"
      ],
      "metadata": {
        "id": "QV39eMf3zkjC"
      }
    },
    {
      "cell_type": "markdown",
      "source": [
        "Q4. What is the purpose of the `return` statement in a Python function?\n",
        "\n",
        "Ans Purpose of return Statement:\n",
        "\n",
        "It is used to return a value from a function.\n",
        "Example:\n",
        "\n",
        "def add(a, b):\n",
        "    return a + b\n",
        "\n",
        "result = add(3, 4)\n",
        "print(result)  # Output: 7\n"
      ],
      "metadata": {
        "id": "z9NgC9AB2eaQ"
      }
    },
    {
      "cell_type": "markdown",
      "source": [
        "Q5. What are iterators in Python and how do they differ from iterables?\n",
        "\n",
        "Ans Iterators vs. Iterables:\n",
        "\n",
        "Iterable: An object that contains data (like lists, tuples). Iterator: An object that can be traversed using next(). Example:\n",
        "\n",
        "lst = [1, 2, 3] itr = iter(lst) print(next(itr)) # Output: 1"
      ],
      "metadata": {
        "id": "1p6GXe-p3Arw"
      }
    },
    {
      "cell_type": "markdown",
      "source": [
        "Q6. Explain the concept of generators in Python and how they are defined.\n",
        "\n",
        "Ans Generators in Python:\n",
        "\n",
        "Functions that yield values using yield, creating an iterator. Example:\n",
        "\n",
        "def gen(): yield 1 yield 2\n",
        "\n",
        "g = gen() print(next(g)) # Output: 1"
      ],
      "metadata": {
        "id": "sW5OXQot3D_M"
      }
    },
    {
      "cell_type": "markdown",
      "source": [
        "Q7. What are the advantages of using generators over regular functions?\n",
        "\n",
        "Ans Advantages of Generators:\n",
        "\n",
        "Saves memory, improves performance, and allows lazy evaluation."
      ],
      "metadata": {
        "id": "14Sr-jmK3HRH"
      }
    },
    {
      "cell_type": "markdown",
      "source": [
        "Q8. What is a lambda function in Python and when is it typically used?\n",
        "\n",
        "Ans Lambda Function:\n",
        "\n",
        "An anonymous function defined with lambda. Example:\n",
        "\n",
        "add = lambda x, y: x + y print(add(2, 3)) # Output: 5"
      ],
      "metadata": {
        "id": "c4cS-9aX3LLV"
      }
    },
    {
      "cell_type": "markdown",
      "source": [
        "Q9. Explain the purpose and usage of the map() function in Python.\n",
        "\n",
        "Ans Purpose of map():\n",
        "\n",
        "Applies a function to all items in an iterable. Example:\n",
        "\n",
        "lst = [1, 2, 3] squared = list(map(lambda x: x ** 2, lst)) print(squared) # Output: [1, 4, 9]"
      ],
      "metadata": {
        "id": "hofvJDcT3PDO"
      }
    },
    {
      "cell_type": "markdown",
      "source": [
        "Q10. What is the difference between map(), reduce(), and filter() functions in Python?\n",
        "\n",
        "Ans Difference between map(), reduce(), and filter():\n",
        "\n",
        "map(): Applies a function to all elements. filter(): Filters elements based on a condition. reduce(): Reduces elements to a single value. Example:\n",
        "\n",
        "from functools import reduce\n",
        "\n",
        "nums = [1, 2, 3, 4]\n",
        "\n",
        "squared = list(map(lambda x: x ** 2, nums)) even_nums = list(filter(lambda x: x % 2 == 0, nums)) sum_all = reduce(lambda x, y: x + y, nums)\n",
        "\n",
        "print(squared) # [1, 4, 9, 16] print(even_nums) # [2, 4] print(sum_all) # 10"
      ],
      "metadata": {
        "id": "0xQgmLNG3S7W"
      }
    },
    {
      "cell_type": "markdown",
      "source": [
        "Q11. Using pen & Paper write the internal mechanism for sum operation using reduce function on this given list:[47,11,42,13];"
      ],
      "metadata": {
        "id": "xKvEBVQL3V5K"
      }
    },
    {
      "cell_type": "markdown",
      "source": [
        "#Practical Questions:\n"
      ],
      "metadata": {
        "id": "cbStJa-t3e0N"
      }
    },
    {
      "cell_type": "code",
      "source": [
        "#1. Write a Python function that takes a list of numbers as input and returns the sum of all even numbers in the list?\n",
        "\n",
        "def sum_even_numbers(numbers):\n",
        "  return sum(num for num in numbers if num % 2 == 0)\n",
        "\n",
        "  print(sum_even_numbers([1,2,3,4]))"
      ],
      "metadata": {
        "id": "cqoZd0243AME"
      },
      "execution_count": 7,
      "outputs": []
    },
    {
      "cell_type": "code",
      "source": [
        "#2. Create a Python function that accepts a string and returns the reverse of that string.\n",
        "\n",
        "def reverse_string(string):\n",
        "  return string[::-1]\n",
        "\n",
        "print(reverse_string(\"hello\"))"
      ],
      "metadata": {
        "colab": {
          "base_uri": "https://localhost:8080/"
        },
        "id": "s-FZHwpx4ZiA",
        "outputId": "ecf9b595-a793-4098-c6a3-927aa3eed166"
      },
      "execution_count": 6,
      "outputs": [
        {
          "output_type": "stream",
          "name": "stdout",
          "text": [
            "olleh\n"
          ]
        }
      ]
    },
    {
      "cell_type": "code",
      "source": [
        "#3. Implement a Python function that takes a list of integers and returns a new list containing the squares of each number.\n",
        "\n",
        "def square_list(list):\n",
        "  return [num ** 2 for num in list]\n",
        "\n",
        "  print(square_list([1,2,3,4,5]))"
      ],
      "metadata": {
        "id": "iNHvFsQl4tgQ"
      },
      "execution_count": 8,
      "outputs": []
    },
    {
      "cell_type": "code",
      "source": [
        "square_list([1,2,3,4,5])"
      ],
      "metadata": {
        "colab": {
          "base_uri": "https://localhost:8080/"
        },
        "id": "xWm8gRzW5Nfi",
        "outputId": "21777916-dfe8-470e-8f6c-133dc53992a1"
      },
      "execution_count": 10,
      "outputs": [
        {
          "output_type": "execute_result",
          "data": {
            "text/plain": [
              "[1, 4, 9, 16, 25]"
            ]
          },
          "metadata": {},
          "execution_count": 10
        }
      ]
    },
    {
      "cell_type": "code",
      "source": [
        "#4. Write a Python function that checks if a given number is prime or not from 1 to 200.\n",
        "\n",
        "def is_prime(num):\n",
        "  if num < 2:\n",
        "    return False\n",
        "  for i in range(2, int(num ** 0.5) + 1):\n",
        "    if num % i == 0:\n",
        "      return False\n",
        "    return True\n",
        "\n",
        "prime = [num for num in range(1, 201) if is_prime(num)]\n",
        "print(prime)\n"
      ],
      "metadata": {
        "colab": {
          "base_uri": "https://localhost:8080/"
        },
        "id": "OvB5UY2c5R36",
        "outputId": "47df7a71-8aef-4a89-d896-ad05113d092d"
      },
      "execution_count": 16,
      "outputs": [
        {
          "output_type": "stream",
          "name": "stdout",
          "text": [
            "[5, 7, 9, 11, 13, 15, 17, 19, 21, 23, 25, 27, 29, 31, 33, 35, 37, 39, 41, 43, 45, 47, 49, 51, 53, 55, 57, 59, 61, 63, 65, 67, 69, 71, 73, 75, 77, 79, 81, 83, 85, 87, 89, 91, 93, 95, 97, 99, 101, 103, 105, 107, 109, 111, 113, 115, 117, 119, 121, 123, 125, 127, 129, 131, 133, 135, 137, 139, 141, 143, 145, 147, 149, 151, 153, 155, 157, 159, 161, 163, 165, 167, 169, 171, 173, 175, 177, 179, 181, 183, 185, 187, 189, 191, 193, 195, 197, 199]\n"
          ]
        }
      ]
    },
    {
      "cell_type": "code",
      "source": [
        "#5. Create an iterator class in Python that generates the Fibonacci sequence up to a specified number of terms.\n",
        "\n",
        "class Fibonacci:\n",
        "    def __init__(self, n):\n",
        "        self.n = n\n",
        "        self.a, self.b = 0, 1\n",
        "        self.count = 0\n",
        "\n",
        "    def __iter__(self):\n",
        "        return self\n",
        "\n",
        "    def __next__(self):\n",
        "        if self.count >= self.n:\n",
        "            raise StopIteration\n",
        "        self.count += 1\n",
        "        temp = self.a\n",
        "        self.a, self.b = self.b, self.a + self.b\n",
        "        return temp\n",
        "\n",
        "fib = Fibonacci(10)\n",
        "print(list(fib))\n"
      ],
      "metadata": {
        "colab": {
          "base_uri": "https://localhost:8080/"
        },
        "id": "On4_eheg6ohH",
        "outputId": "a58e5bbe-2f36-4562-8530-ee3e065024ab"
      },
      "execution_count": 23,
      "outputs": [
        {
          "output_type": "stream",
          "name": "stdout",
          "text": [
            "[0, 1, 1, 2, 3, 5, 8, 13, 21, 34]\n"
          ]
        }
      ]
    },
    {
      "cell_type": "code",
      "source": [
        "#6. Write a generator function in Python that yields the powers of 2 up to a given exponent.\n",
        "\n",
        "def power_of_2(n):\n",
        "    for i in range(n + 1):\n",
        "        yield 2 ** i\n",
        "\n",
        "print(list(power_of_2(5)))\n"
      ],
      "metadata": {
        "colab": {
          "base_uri": "https://localhost:8080/"
        },
        "id": "hfM2dOgi9vZ3",
        "outputId": "28db0e67-0d50-4e51-a7bb-bd018b6de90c"
      },
      "execution_count": 25,
      "outputs": [
        {
          "output_type": "stream",
          "name": "stdout",
          "text": [
            "[1, 2, 4, 8, 16, 32]\n"
          ]
        }
      ]
    },
    {
      "cell_type": "code",
      "source": [
        "#7. Implement a generator function that reads a file line by line and yields each line as a string.\n",
        "\n",
        "def read_file(file_path):\n",
        "    with open(file_path, 'r') as f:\n",
        "        for line in f:\n",
        "            yield line\n",
        "\n",
        "for line in read_file(\"example.txt\"):\n",
        "    print(line)"
      ],
      "metadata": {
        "colab": {
          "base_uri": "https://localhost:8080/",
          "height": 324
        },
        "id": "VrC9Law49_pA",
        "outputId": "918f5dad-b4a0-42eb-fb86-bd2e0719e890"
      },
      "execution_count": 29,
      "outputs": [
        {
          "output_type": "error",
          "ename": "FileNotFoundError",
          "evalue": "[Errno 2] No such file or directory: 'example.txt'",
          "traceback": [
            "\u001b[0;31m---------------------------------------------------------------------------\u001b[0m",
            "\u001b[0;31mFileNotFoundError\u001b[0m                         Traceback (most recent call last)",
            "\u001b[0;32m<ipython-input-29-9ba794bf2305>\u001b[0m in \u001b[0;36m<cell line: 0>\u001b[0;34m()\u001b[0m\n\u001b[1;32m      6\u001b[0m             \u001b[0;32myield\u001b[0m \u001b[0mline\u001b[0m\u001b[0;34m\u001b[0m\u001b[0;34m\u001b[0m\u001b[0m\n\u001b[1;32m      7\u001b[0m \u001b[0;34m\u001b[0m\u001b[0m\n\u001b[0;32m----> 8\u001b[0;31m \u001b[0;32mfor\u001b[0m \u001b[0mline\u001b[0m \u001b[0;32min\u001b[0m \u001b[0mread_file\u001b[0m\u001b[0;34m(\u001b[0m\u001b[0;34m\"example.txt\"\u001b[0m\u001b[0;34m)\u001b[0m\u001b[0;34m:\u001b[0m\u001b[0;34m\u001b[0m\u001b[0;34m\u001b[0m\u001b[0m\n\u001b[0m\u001b[1;32m      9\u001b[0m     \u001b[0mprint\u001b[0m\u001b[0;34m(\u001b[0m\u001b[0mline\u001b[0m\u001b[0;34m)\u001b[0m\u001b[0;34m\u001b[0m\u001b[0;34m\u001b[0m\u001b[0m\n",
            "\u001b[0;32m<ipython-input-29-9ba794bf2305>\u001b[0m in \u001b[0;36mread_file\u001b[0;34m(file_path)\u001b[0m\n\u001b[1;32m      2\u001b[0m \u001b[0;34m\u001b[0m\u001b[0m\n\u001b[1;32m      3\u001b[0m \u001b[0;32mdef\u001b[0m \u001b[0mread_file\u001b[0m\u001b[0;34m(\u001b[0m\u001b[0mfile_path\u001b[0m\u001b[0;34m)\u001b[0m\u001b[0;34m:\u001b[0m\u001b[0;34m\u001b[0m\u001b[0;34m\u001b[0m\u001b[0m\n\u001b[0;32m----> 4\u001b[0;31m     \u001b[0;32mwith\u001b[0m \u001b[0mopen\u001b[0m\u001b[0;34m(\u001b[0m\u001b[0mfile_path\u001b[0m\u001b[0;34m,\u001b[0m \u001b[0;34m'r'\u001b[0m\u001b[0;34m)\u001b[0m \u001b[0;32mas\u001b[0m \u001b[0mf\u001b[0m\u001b[0;34m:\u001b[0m\u001b[0;34m\u001b[0m\u001b[0;34m\u001b[0m\u001b[0m\n\u001b[0m\u001b[1;32m      5\u001b[0m         \u001b[0;32mfor\u001b[0m \u001b[0mline\u001b[0m \u001b[0;32min\u001b[0m \u001b[0mf\u001b[0m\u001b[0;34m:\u001b[0m\u001b[0;34m\u001b[0m\u001b[0;34m\u001b[0m\u001b[0m\n\u001b[1;32m      6\u001b[0m             \u001b[0;32myield\u001b[0m \u001b[0mline\u001b[0m\u001b[0;34m\u001b[0m\u001b[0;34m\u001b[0m\u001b[0m\n",
            "\u001b[0;31mFileNotFoundError\u001b[0m: [Errno 2] No such file or directory: 'example.txt'"
          ]
        }
      ]
    },
    {
      "cell_type": "code",
      "source": [
        "#8. Use a lambda function in Python to sort a list of tuples based on the second element of each tuple.\n",
        "\n",
        "lst = [(1, 3), (2, 1), (4, 2)]\n",
        "sorted_lst = sorted(lst, key=lambda x: x[1])\n",
        "print(sorted_lst)  # Output: [(2, 1), (4, 2), (1, 3)]\n"
      ],
      "metadata": {
        "colab": {
          "base_uri": "https://localhost:8080/"
        },
        "id": "MOLZ2rm-_TXa",
        "outputId": "ee67fc4d-1ce4-4ebb-8df3-fe6908b498d9"
      },
      "execution_count": 31,
      "outputs": [
        {
          "output_type": "stream",
          "name": "stdout",
          "text": [
            "[(2, 1), (4, 2), (1, 3)]\n"
          ]
        }
      ]
    },
    {
      "cell_type": "code",
      "source": [
        "#9. Write a Python program that uses `map()` to convert a list of temperatures from Celsius to Fahrenheit.\n",
        "\n",
        "Celsius= [0, 10, 20, 30, 40]\n",
        "Fahrenheit = list(map(lambda x: (x * 9/5) + 32, Celsius))\n",
        "print(Fahrenheit)"
      ],
      "metadata": {
        "colab": {
          "base_uri": "https://localhost:8080/"
        },
        "id": "pqOdAG6R_tJX",
        "outputId": "426e87cc-f672-4258-c382-7e08000291db"
      },
      "execution_count": 32,
      "outputs": [
        {
          "output_type": "stream",
          "name": "stdout",
          "text": [
            "[32.0, 50.0, 68.0, 86.0, 104.0]\n"
          ]
        }
      ]
    },
    {
      "cell_type": "code",
      "source": [
        "#10. Create a Python program that uses `filter()` to remove all the vowels from a given string.\n",
        "\n",
        "def remove_vowels(string):\n",
        "    vowels = ['a', 'e', 'i', 'o', 'u']\n",
        "    return ''.join(filter(lambda x: x.lower() not in vowels, string))\n",
        "\n",
        "print(remove_vowels(\"Hello, World!\"))"
      ],
      "metadata": {
        "colab": {
          "base_uri": "https://localhost:8080/"
        },
        "id": "lwBsscjLANHE",
        "outputId": "fcc949bf-82c2-4705-e723-d09857435e54"
      },
      "execution_count": 33,
      "outputs": [
        {
          "output_type": "stream",
          "name": "stdout",
          "text": [
            "Hll, Wrld!\n"
          ]
        }
      ]
    },
    {
      "cell_type": "code",
      "source": [
        "'''11) Imagine an accounting routine used in a book shop. It works on a list with sublists, which look like this:\n",
        "Write a Python program, which returns a list with 2-tuples. Each tuple consists of the order number and the\n",
        "product of the price per item and the quantity. The product should be increased by 10,- € if the value of the\n",
        "order is smaller than 100,00 €.\n",
        "Write a Python program using lambda and map'''\n",
        "\n",
        "orders = [(34587, 4, 40), (98762, 5, 30), (77226, 3, 50)]\n",
        "\n",
        "result = list(map(lambda x: (x[0], x[1] * x[2] + 10 if x[1] * x[2] < 100 else x[1] * x[2]), orders))\n",
        "\n",
        "print(result)\n"
      ],
      "metadata": {
        "colab": {
          "base_uri": "https://localhost:8080/"
        },
        "id": "dVhy67faAbqb",
        "outputId": "6a0b9079-c28b-4152-8236-d93ef18b5377"
      },
      "execution_count": 34,
      "outputs": [
        {
          "output_type": "stream",
          "name": "stdout",
          "text": [
            "[(34587, 160), (98762, 150), (77226, 150)]\n"
          ]
        }
      ]
    },
    {
      "cell_type": "code",
      "source": [],
      "metadata": {
        "id": "OlIE9_XGAx3R"
      },
      "execution_count": null,
      "outputs": []
    }
  ]
}